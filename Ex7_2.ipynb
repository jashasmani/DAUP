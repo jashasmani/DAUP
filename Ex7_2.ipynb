{
  "nbformat": 4,
  "nbformat_minor": 0,
  "metadata": {
    "colab": {
      "provenance": [],
      "authorship_tag": "ABX9TyPJM2dyjWlFRvHcS7RGrVmF",
      "include_colab_link": true
    },
    "kernelspec": {
      "name": "python3",
      "display_name": "Python 3"
    },
    "language_info": {
      "name": "python"
    }
  },
  "cells": [
    {
      "cell_type": "markdown",
      "metadata": {
        "id": "view-in-github",
        "colab_type": "text"
      },
      "source": [
        "<a href=\"https://colab.research.google.com/github/jashasmani/DAUP/blob/main/Ex7_2.ipynb\" target=\"_parent\"><img src=\"https://colab.research.google.com/assets/colab-badge.svg\" alt=\"Open In Colab\"/></a>"
      ]
    },
    {
      "cell_type": "code",
      "execution_count": null,
      "metadata": {
        "colab": {
          "base_uri": "https://localhost:8080/"
        },
        "id": "bupd6_RCWmrR",
        "outputId": "723dc222-1686-458f-ac79-f53860dca957"
      },
      "outputs": [
        {
          "output_type": "stream",
          "name": "stdout",
          "text": [
            "Naive Bayes Accuracy: 1.0\n",
            "KNN Accuracy: 1.0\n"
          ]
        }
      ],
      "source": [
        "from sklearn.datasets import load_iris\n",
        "import pandas as pd\n",
        "from sklearn.model_selection import train_test_split\n",
        "from sklearn.naive_bayes import GaussianNB\n",
        "from sklearn.neighbors import KNeighborsClassifier\n",
        "from sklearn.metrics import accuracy_score\n",
        "\n",
        "df = pd.read_csv('/content/weather.csv')\n",
        "df['play']=df['play'].replace(to_replace='yes',value=1)\n",
        "df['play']=df['play'].replace(to_replace='no',value=0)\n",
        "df['windy']=df['windy'].replace(to_replace=False,value=0)\n",
        "df['windy']=df['windy'].replace(to_replace=True,value=1)\n",
        "df['humidity']=df['humidity'].replace(to_replace='high',value=0)\n",
        "df['humidity']=df['humidity'].replace(to_replace='normal',value=1)\n",
        "df['temperature']=df['temperature'].replace(to_replace='hot',value=0)\n",
        "df['temperature']=df['temperature'].replace(to_replace='cool',value=2)\n",
        "df['temperature']=df['temperature'].replace(to_replace='mild',value=1)\n",
        "df['outlook']=df['outlook'].replace(to_replace='overcast',value=0)\n",
        "df['outlook']=df['outlook'].replace(to_replace='rainy',value=1)\n",
        "df['outlook']=df['outlook'].replace(to_replace='sunny',value=2)\n",
        "\n",
        "X =df.drop(columns=['play'])\n",
        "y = df['play']\n",
        "\n",
        "X_train, X_test, y_train, y_test = train_test_split(X, y, test_size=0.2, random_state=25)\n",
        "\n",
        "nb_classifier = GaussianNB()\n",
        "nb_classifier.fit(X_train, y_train)\n",
        "\n",
        "y_pred_nb = nb_classifier.predict(X_test)\n",
        "\n",
        "accuracy_nb = accuracy_score(y_test, y_pred_nb)\n",
        "print(\"Naive Bayes Accuracy:\", accuracy_nb)\n",
        "\n",
        "knn_classifier = KNeighborsClassifier(n_neighbors=3)\n",
        "knn_classifier.fit(X_train, y_train)\n",
        "\n",
        "y_pred_knn = knn_classifier.predict(X_test)\n",
        "\n",
        "accuracy_knn = accuracy_score(y_test, y_pred_knn)\n",
        "print(\"KNN Accuracy:\", accuracy_knn)\n",
        "\n"
      ]
    }
  ]
}