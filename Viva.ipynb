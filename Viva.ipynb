{
  "nbformat": 4,
  "nbformat_minor": 0,
  "metadata": {
    "colab": {
      "provenance": [],
      "authorship_tag": "ABX9TyNH8fPnnvIRrBWA9P6vnOaq",
      "include_colab_link": true
    },
    "kernelspec": {
      "name": "python3",
      "display_name": "Python 3"
    },
    "language_info": {
      "name": "python"
    }
  },
  "cells": [
    {
      "cell_type": "markdown",
      "metadata": {
        "id": "view-in-github",
        "colab_type": "text"
      },
      "source": [
        "<a href=\"https://colab.research.google.com/github/jashasmani/DAUP/blob/main/Viva.ipynb\" target=\"_parent\"><img src=\"https://colab.research.google.com/assets/colab-badge.svg\" alt=\"Open In Colab\"/></a>"
      ]
    },
    {
      "cell_type": "code",
      "execution_count": 1,
      "metadata": {
        "id": "uetIUTS6TytL"
      },
      "outputs": [],
      "source": [
        "from sklearn import preprocessing\n",
        "from sklearn.model_selection import train_test_split\n",
        "from sklearn.linear_model import LinearRegression\n",
        "import pandas as pd\n",
        "import numpy as np\n",
        "import matplotlib.pyplot as plt"
      ]
    },
    {
      "cell_type": "code",
      "source": [
        "df = pd.read_csv('/content/example.csv')\n",
        "print(df)"
      ],
      "metadata": {
        "colab": {
          "base_uri": "https://localhost:8080/"
        },
        "id": "P2WjzU2kT3iG",
        "outputId": "31b7746d-124f-4b6d-c2df-5e9df075d358"
      },
      "execution_count": 11,
      "outputs": [
        {
          "output_type": "stream",
          "name": "stdout",
          "text": [
            "    E_ID    NAME DEPT  SALARY POSITION  EXP\n",
            "0      1    JASH   IT   700.0       SN  4.0\n",
            "1      2    NIRJ  NaN   800.0       SN  5.0\n",
            "2      3    ASDF   IT   900.0       JN  5.0\n",
            "3      4     ASF   IT   600.0      ASS  5.0\n",
            "4      5     SDF   CE     NaN       JN  5.0\n",
            "5      6     SDN  NaN   500.0      ASS  NaN\n",
            "6      7     XCV   CE   650.0      NaN  NaN\n",
            "7      8     SFD   CE   680.0       JN  6.0\n",
            "8      9    FGBN   CE   800.0      ASS  6.0\n",
            "9     10  SADZXC   EC   900.0      NaN  3.0\n",
            "10    11    KVJB   EC   856.0       SN  3.0\n",
            "11    12    MDNF  NaN   789.0      NaN  4.0\n",
            "12    13    XNVN   EC     NaN       SN  2.0\n",
            "13    14   MCXNV   EC   456.0      ASS  NaN\n",
            "14    15   MIDJS   EC   654.0      ASS  2.0\n"
          ]
        }
      ]
    },
    {
      "cell_type": "code",
      "source": [
        "df['DEPT']=df['DEPT'].fillna(method='bfill')\n",
        "df['DEPT']=df['DEPT'].replace(to_replace='IT',value=1)\n",
        "df['DEPT']=df['DEPT'].replace(to_replace='CE',value=2)\n",
        "df['DEPT']=df['DEPT'].replace(to_replace='EC',value=3)\n",
        "df['SALARY']=df['SALARY'].fillna(0)\n",
        "avg=df['SALARY'].mean()\n",
        "df['SALARY']=df['SALARY'].replace(to_replace=0,value=avg)\n",
        "df['EXP']=df['EXP'].fillna(0)\n",
        "avg_exp=df['EXP'].mean()\n",
        "rounded_num1 = round(avg_exp)\n",
        "df['EXP']=df['EXP'].replace(to_replace=0,value=rounded_num1)\n",
        "print(df)"
      ],
      "metadata": {
        "colab": {
          "base_uri": "https://localhost:8080/"
        },
        "id": "SMo7LDz9T3at",
        "outputId": "b69c805a-3974-477e-b6f7-8b570764d066"
      },
      "execution_count": 22,
      "outputs": [
        {
          "output_type": "stream",
          "name": "stdout",
          "text": [
            "    E_ID    NAME  DEPT  SALARY POSITION  EXP\n",
            "0      1    JASH     1   700.0       SN  4.0\n",
            "1      2    NIRJ     1   800.0       SN  5.0\n",
            "2      3    ASDF     1   900.0       JN  5.0\n",
            "3      4     ASF     1   600.0      ASS  5.0\n",
            "4      5     SDF     2   619.0       JN  5.0\n",
            "5      6     SDN     2   500.0      ASS  3.0\n",
            "6      7     XCV     2   650.0      NaN  3.0\n",
            "7      8     SFD     2   680.0       JN  6.0\n",
            "8      9    FGBN     2   800.0      ASS  6.0\n",
            "9     10  SADZXC     3   900.0      NaN  3.0\n",
            "10    11    KVJB     3   856.0       SN  3.0\n",
            "11    12    MDNF     3   789.0      NaN  4.0\n",
            "12    13    XNVN     3   619.0       SN  2.0\n",
            "13    14   MCXNV     3   456.0      ASS  3.0\n",
            "14    15   MIDJS     3   654.0      ASS  2.0\n"
          ]
        }
      ]
    },
    {
      "cell_type": "code",
      "source": [
        "X=np.array(df[[\"DEPT\",\"EXP\"]])\n",
        "y=np.array(df[\"SALARY\"])\n",
        "\n",
        "\n",
        "x_train,x_test,y_train,y_test=train_test_split(X,y,test_size=0.25)\n",
        "r=LinearRegression()\n",
        "r.fit(x_train,y_train)\n",
        "\n",
        "pre=r.predict([[1,5]])\n",
        "print(pre)"
      ],
      "metadata": {
        "colab": {
          "base_uri": "https://localhost:8080/"
        },
        "id": "SigG6XB3WSNr",
        "outputId": "7f872072-772b-40e0-a85e-f0d09037a914"
      },
      "execution_count": 35,
      "outputs": [
        {
          "output_type": "stream",
          "name": "stdout",
          "text": [
            "[726.13495277]\n"
          ]
        }
      ]
    }
  ]
}